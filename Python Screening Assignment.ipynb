{
 "cells": [
  {
   "cell_type": "markdown",
   "id": "61ffbc9d",
   "metadata": {},
   "source": [
    "1. Create a function in python to read the text file and replace specific content of the file."
   ]
  },
  {
   "cell_type": "code",
   "execution_count": 3,
   "id": "0fb148c0",
   "metadata": {},
   "outputs": [],
   "source": [
    "f = open(\"example.txt\", \"w\")\n",
    "f.write(\"This is a placement assignment\")\n",
    "f.close()"
   ]
  },
  {
   "cell_type": "code",
   "execution_count": 4,
   "id": "9c4a46d9",
   "metadata": {},
   "outputs": [],
   "source": [
    "f = open(\"example.txt\", \"r+\")\n",
    "x = \"placement\"\n",
    "y = \"screening\"\n",
    " \n",
    "l = f.readlines()\n",
    " \n",
    "c = 0\n",
    "for i in l:\n",
    "    if x in i:\n",
    "        Replacement = i.replace(x, y)\n",
    "        l = Replacement\n",
    "    c += 1\n",
    "\n",
    "f.truncate(0)\n",
    " \n",
    "f.writelines(l)\n",
    "f.close()"
   ]
  },
  {
   "cell_type": "code",
   "execution_count": null,
   "id": "0477d623",
   "metadata": {},
   "outputs": [],
   "source": []
  },
  {
   "cell_type": "markdown",
   "id": "e07a485c",
   "metadata": {},
   "source": [
    "2. Demonstrate use of abstract class, multiple inheritance and decorator in python using examples."
   ]
  },
  {
   "cell_type": "markdown",
   "id": "943b6b10",
   "metadata": {},
   "source": [
    "Abstraction means protecting your variable or protecting your object someone.An abstraction is used to hide the irrelevant data/class in order to reduce the complexity.A method becomes abstract when decorated with the keyword @abstractmethod.By defining an abstract base class, you can define a common Application Program Interface(API) for a set of subclasses."
   ]
  },
  {
   "cell_type": "code",
   "execution_count": 2,
   "id": "32e54348",
   "metadata": {},
   "outputs": [
    {
     "name": "stdout",
     "output_type": "stream",
     "text": [
      "I have 3 sides\n",
      "I have 4 sides\n",
      "I have 5 sides\n",
      "I have 6 sides\n"
     ]
    }
   ],
   "source": [
    "\n",
    "from abc import ABC, abstractmethod\n",
    " \n",
    "class Polygon(ABC):\n",
    " \n",
    "    @abstractmethod\n",
    "    def noofsides(self):\n",
    "        pass\n",
    " \n",
    "class Triangle(Polygon):\n",
    " \n",
    "    def noofsides(self):\n",
    "        print(\"I have 3 sides\")\n",
    " \n",
    "class Pentagon(Polygon):\n",
    " \n",
    "    def noofsides(self):\n",
    "        print(\"I have 5 sides\")\n",
    " \n",
    "class Hexagon(Polygon):\n",
    " \n",
    "    def noofsides(self):\n",
    "        print(\"I have 6 sides\")\n",
    " \n",
    "class Quadrilateral(Polygon):\n",
    " \n",
    "    def noofsides(self):\n",
    "        print(\"I have 4 sides\")\n",
    " \n",
    "R = Triangle()\n",
    "R.noofsides()\n",
    " \n",
    "K = Quadrilateral()\n",
    "K.noofsides()\n",
    " \n",
    "R = Pentagon()\n",
    "R.noofsides()\n",
    " \n",
    "K = Hexagon()\n",
    "K.noofsides()"
   ]
  },
  {
   "cell_type": "markdown",
   "id": "1ecdadd2",
   "metadata": {},
   "source": [
    "Inheritance is a concept in object oriented programming where existing classes can be modified by a new class. The existing class is called the base class and the new class is called the derived class.Inheritence in which inherite the property of parents class to childclass. Just to Access or increase the reusebility of code."
   ]
  },
  {
   "cell_type": "code",
   "execution_count": 1,
   "id": "7fee4881",
   "metadata": {},
   "outputs": [
    {
     "name": "stdout",
     "output_type": "stream",
     "text": [
      "iNeuron Company was established in 2018\n"
     ]
    }
   ],
   "source": [
    "class Ineuron:\n",
    "    company_website = 'https://ineuron.ai/'\n",
    "    name = 'iNeuron'\n",
    " \n",
    "    def contact_details(self):\n",
    "        print('Contact us at ', self.company_website)\n",
    " \n",
    " \n",
    "class Datascience(Ineuron):\n",
    "    def __init__(self):\n",
    "        self.year_of_establishment= 2018\n",
    " \n",
    "    def est_details(self):\n",
    "        print('{0} Company was established in {1}'\n",
    "              .format(self.name,self.year_of_establishment))\n",
    " \n",
    " \n",
    "ds = Datascience()\n",
    "ds.est_details()"
   ]
  },
  {
   "cell_type": "code",
   "execution_count": null,
   "id": "4fc752c4",
   "metadata": {},
   "outputs": [],
   "source": []
  }
 ],
 "metadata": {
  "kernelspec": {
   "display_name": "Python 3 (ipykernel)",
   "language": "python",
   "name": "python3"
  },
  "language_info": {
   "codemirror_mode": {
    "name": "ipython",
    "version": 3
   },
   "file_extension": ".py",
   "mimetype": "text/x-python",
   "name": "python",
   "nbconvert_exporter": "python",
   "pygments_lexer": "ipython3",
   "version": "3.9.7"
  }
 },
 "nbformat": 4,
 "nbformat_minor": 5
}
